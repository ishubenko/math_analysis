{
 "cells": [
  {
   "cell_type": "markdown",
   "metadata": {},
   "source": [
    "## Тема 3 “Последовательность”"
   ]
  },
  {
   "cell_type": "markdown",
   "metadata": {},
   "source": [
    "#### 1.\n",
    "Даны 4 последовательности. Необходимо:\n",
    "a) исследовать их на монотонность; \n",
    "b) исследовать на ограниченность;\n",
    "c) найти пятый по счету член."
   ]
  },
  {
   "cell_type": "markdown",
   "metadata": {},
   "source": [
    "$$\\begin{Bmatrix}\n",
    "a_n\n",
    "\\end{Bmatrix}_{n=1}^{\\infty} = 2^n - n$$\n",
    "$$a_1 = 2^1 - 1 = 1$$\n",
    "$$a_2 = 2^2 - 2 = 2$$\n",
    "$$a_3 = 2^3 - 3 = 5$$\n",
    "$$a_4 = 2^4 - 4 = 12$$\n",
    "$$a_5 = 2^5 - 5 = 27$$"
   ]
  },
  {
   "cell_type": "markdown",
   "metadata": {},
   "source": []
  },
  {
   "cell_type": "markdown",
   "metadata": {},
   "source": []
  },
  {
   "cell_type": "markdown",
   "metadata": {},
   "source": [
    "#### 2.\n",
    "Найти 12-й член заданной неявно последовательности\n",
    "$$ a_1 = 128, a_{n+1} - a_n = 6 $$\n",
    "$$ a_{n+1} = a_n + 6 $$\n",
    "$$ a_{n} = a_{n-1} + 6 $$\n",
    "\n",
    "$$ a_1 = 128 $$\n",
    "$$ a_2 = 134 $$\n",
    "$$ a_3 = 140 $$\n",
    "$$ a_4 = 146 $$\n",
    "$$ a_n = a_1 + 6*(n-1) $$\n",
    "$$ a_{12} = 128 + 6*(12-1) = 128 + 66 = 194 $$"
   ]
  },
  {
   "cell_type": "markdown",
   "metadata": {},
   "source": [
    "### 3.\n",
    "На языке Python предложить алгоритм вычисляющий численно предел с точностью \n",
    "$$\\epsilon = 10^{-7}$$"
   ]
  },
  {
   "cell_type": "code",
   "execution_count": null,
   "metadata": {},
   "outputs": [],
   "source": [
    "import math\n",
    "eps = 0.0000001\n"
   ]
  }
 ],
 "metadata": {
  "kernelspec": {
   "display_name": "Python 3",
   "language": "python",
   "name": "python3"
  },
  "language_info": {
   "codemirror_mode": {
    "name": "ipython",
    "version": 3
   },
   "file_extension": ".py",
   "mimetype": "text/x-python",
   "name": "python",
   "nbconvert_exporter": "python",
   "pygments_lexer": "ipython3",
   "version": "3.8.5"
  }
 },
 "nbformat": 4,
 "nbformat_minor": 4
}
