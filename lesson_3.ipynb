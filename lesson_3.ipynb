{
 "cells": [
  {
   "cell_type": "markdown",
   "metadata": {},
   "source": [
    "## Тема 3 “Последовательность”"
   ]
  },
  {
   "cell_type": "markdown",
   "metadata": {},
   "source": [
    "#### 1.\n",
    "Даны 4 последовательности. Необходимо:\n",
    "a) исследовать их на монотонность; \n",
    "b) исследовать на ограниченность;\n",
    "c) найти пятый по счету член."
   ]
  },
  {
   "cell_type": "markdown",
   "metadata": {},
   "source": [
    "<!-- $$\\begin{Bmatrix}\n",
    "a_n\n",
    "\\end{Bmatrix}_{n=1}^{\\infty} = 2^n - n$$ -->\n",
    "\n",
    "$$\\Bigl\\{a_n\\Bigr\\}_{n=1}^\\infty = 2^n - n$$\n",
    "\n",
    "$$\\lim_{n\\to \\infty} 2^n - n= \\infty $$\n",
    "\n",
    "$$a_5 = 2^5 - 5 = 27$$"
   ]
  },
  {
   "cell_type": "markdown",
   "metadata": {},
   "source": [
    "$$\\Bigl\\{b_n\\Bigr\\}_{n=2}^\\infty = \\frac{1}{1-n}$$\n",
    "\n",
    "$$\\lim_{n\\to \\infty} \\frac{1}{1-n} = \\frac{1}{1-\\infty} = \\frac{1}{-\\infty}= 0$$\n",
    "\n",
    "$$b_5 = \\frac{1}{1-5}= \\frac{1}{5}$$"
   ]
  },
  {
   "cell_type": "markdown",
   "metadata": {},
   "source": [
    "$$\\Bigl\\{c_n\\Bigr\\}_{n=1}^\\infty = -1^n + \\sqrt{2n}$$\n",
    "\n",
    "$$\\lim_{n\\to \\infty} -1^n + \\sqrt{2n} = \\pm 1 + \\infty = \\infty$$\n",
    "\n",
    "$$c_5 = -1^5 + \\sqrt{2*5}$$"
   ]
  },
  {
   "cell_type": "markdown",
   "metadata": {},
   "source": [
    "$$\\Bigl\\{d_n\\Bigr\\}_{n=1}^\\infty = (-1)^{2n} +\\frac{1}{n^2}$$\n",
    "\n",
    "$$\\lim_{n\\to \\infty} (-1)^{2n} +\\frac{1}{n^2} = 1 + \\frac{1}{\\infty}=1 +0 = 1$$\n",
    "\n",
    "$$d_5 = (-1)^{2*5} +\\frac{1}{5^2} =  (-1)^{10} +\\frac{1}{25} = 1+\\frac{1}{25}$$"
   ]
  },
  {
   "cell_type": "markdown",
   "metadata": {},
   "source": [
    "#### 2.\n",
    "Найти 12-й член заданной неявно последовательности\n",
    "$$ a_1 = 128, a_{n+1} - a_n = 6 $$\n",
    "$$ a_{n+1} = a_n + 6 $$\n",
    "$$ a_{n} = a_{n-1} + 6 $$\n",
    "\n",
    "$$ a_1 = 128 $$\n",
    "$$ a_2 = 134 $$\n",
    "$$ a_3 = 140 $$\n",
    "$$ a_4 = 146 $$\n",
    "$$ a_n = a_1 + 6*(n-1) $$\n",
    "$$ a_{12} = 128 + 6*(12-1) = 128 + 66 = 194 $$"
   ]
  },
  {
   "cell_type": "markdown",
   "metadata": {},
   "source": [
    "### 3.\n",
    "На языке Python предложить алгоритм вычисляющий численно предел с точностью $\\epsilon = 10^{-7}$\n",
    "\n",
    "$$\\lim_{n\\to \\infty} \\frac{n}{\\sqrt[n]n!} $$"
   ]
  },
  {
   "cell_type": "code",
   "execution_count": 4,
   "metadata": {},
   "outputs": [
    {
     "name": "stdout",
     "output_type": "stream",
     "text": [
      "eps=1e-07 \n",
      "N=23.25349666421154\n",
      "a_24=2.448209086349558\n"
     ]
    }
   ],
   "source": [
    "import math\n",
    "eps = 0.0000001\n",
    "N = -math.log(eps,2)\n",
    "\n",
    "print (f'eps={eps}', f'\\nN={N}')\n",
    "\n",
    "n = int(N+1)\n",
    "\n",
    "print (f'a_{n}={n/(math.factorial(n))**(1/n)}')"
   ]
  }
 ],
 "metadata": {
  "kernelspec": {
   "display_name": "Python 3",
   "language": "python",
   "name": "python3"
  },
  "language_info": {
   "codemirror_mode": {
    "name": "ipython",
    "version": 3
   },
   "file_extension": ".py",
   "mimetype": "text/x-python",
   "name": "python",
   "nbconvert_exporter": "python",
   "pygments_lexer": "ipython3",
   "version": "3.8.3"
  }
 },
 "nbformat": 4,
 "nbformat_minor": 4
}
