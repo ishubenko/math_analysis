{
 "cells": [
  {
   "cell_type": "markdown",
   "metadata": {},
   "source": [
    "## Тема “Введение в математических анализ”"
   ]
  },
  {
   "cell_type": "markdown",
   "metadata": {},
   "source": [
    "#### 1. \n",
    "Как относятся друг к другу множество и последовательность? (в ответе использовать слова типа: часть, целое, общее, частное, родитель, дочерний субъект и т.д.)"
   ]
  },
  {
   "cell_type": "markdown",
   "metadata": {},
   "source": [
    "Последовательность состоит из множества действительных чисел, имеющих порядок с использованием натуральных чисел."
   ]
  },
  {
   "cell_type": "markdown",
   "metadata": {},
   "source": [
    "#### 2.\n",
    "Прочитать высказывания математической логики, построить их отрицания и установить истинность."
   ]
  },
  {
   "cell_type": "markdown",
   "metadata": {},
   "source": [
    "$x^2$\n",
    "$\\pi$\n",
    "$\\frac{a}{b}$\n",
    "$\\overline{0}$\n",
    "$\\sqrt{\\frac{2 D c_o}{}c_h}$"
   ]
  },
  {
   "cell_type": "markdown",
   "metadata": {},
   "source": [
    "$\\epsilon$\n",
    "$\\Lambda$\n",
    "$\\alpha$\n",
    "$\\in (-\\infty, 0]$"
   ]
  },
  {
   "cell_type": "markdown",
   "metadata": {},
   "source": [
    "$\\sum_{i=1}^n x_i$"
   ]
  },
  {
   "cell_type": "markdown",
   "metadata": {},
   "source": [
    "$$\\forall y \\in [0;1] : sgn(y) = 1$$\n",
    "Для любого y принадлежавшего диапазону от 0 включительно до 1 включительно, значение\n",
    "\n",
    "$$\\forall n \\in 2 : \\exists x,y,z \\in N : x^n=y^n+z^n $$"
   ]
  },
  {
   "cell_type": "markdown",
   "metadata": {},
   "source": []
  },
  {
   "cell_type": "markdown",
   "metadata": {},
   "source": [
    "## Тема “Множество”"
   ]
  },
  {
   "cell_type": "markdown",
   "metadata": {},
   "source": [
    "#### 1.\n",
    "Даны три множества a,b и с. Необходимо выполнить все изученные виды бинарных операций над всеми комбинациями множеств."
   ]
  },
  {
   "cell_type": "markdown",
   "metadata": {},
   "source": [
    "A*B*C\n",
    "\n",
    "A+B+C\n",
    "\n",
    "A*B+C\n",
    "\n",
    "A+B*C\n",
    "\n",
    "A*C+B\n"
   ]
  },
  {
   "cell_type": "markdown",
   "metadata": {},
   "source": [
    "#### 2.\n",
    "*Выполнить задание 1 на языке Python"
   ]
  },
  {
   "cell_type": "code",
   "execution_count": null,
   "metadata": {},
   "outputs": [],
   "source": []
  },
  {
   "cell_type": "markdown",
   "metadata": {},
   "source": [
    "## Тема 3 “Последовательность”"
   ]
  },
  {
   "cell_type": "markdown",
   "metadata": {},
   "source": [
    "#### 1.\n",
    "Даны 4 последовательности. Необходимо:\n",
    "a) исследовать их на монотонность; \n",
    "b) исследовать на ограниченность;\n",
    "c) найти пятый по счету член."
   ]
  },
  {
   "cell_type": "markdown",
   "metadata": {},
   "source": [
    "$$\\begin{Bmatrix}\n",
    "a_n\n",
    "\\end{Bmatrix}_{n=1}^{\\infty} = 2^n - n$$\n",
    "$$a_1 = 2^1 - 1 = 1$$\n",
    "$$a_2 = 2^2 - 2 = 2$$\n",
    "$$a_3 = 2^3 - 3 = 5$$"
   ]
  },
  {
   "cell_type": "markdown",
   "metadata": {},
   "source": [
    "#### 2.\n",
    "Найти 12-й член заданной неявно последовательности\n",
    "$$ a_1 = 128, a_n+1 - a_n = 6 $$\n",
    "$$ a_n+1 = a_n + 6 $$\n",
    "$$ a_1 = 128 $$\n",
    "$$ a_2 = 134 $$\n",
    "$$ a_3 = 140 $$\n",
    "$$ a_4 = 146 $$\n",
    "$$ a_n = a_1 + 6*(n-1) $$\n",
    "$$ a_12 = 128 + 6*(12-1) = 128 + 66 = 194 $$"
   ]
  }
 ],
 "metadata": {
  "kernelspec": {
   "display_name": "Python 3",
   "language": "python",
   "name": "python3"
  },
  "language_info": {
   "codemirror_mode": {
    "name": "ipython",
    "version": 3
   },
   "file_extension": ".py",
   "mimetype": "text/x-python",
   "name": "python",
   "nbconvert_exporter": "python",
   "pygments_lexer": "ipython3",
   "version": "3.8.5"
  }
 },
 "nbformat": 4,
 "nbformat_minor": 4
}
