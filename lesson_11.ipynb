{
 "cells": [
  {
   "cell_type": "markdown",
   "metadata": {},
   "source": [
    "## Тема  “Ряды”"
   ]
  },
  {
   "cell_type": "markdown",
   "metadata": {},
   "source": [
    "#### 1. Исследовать ряд на сходимость, используя признак д’Аламбера:"
   ]
  },
  {
   "cell_type": "markdown",
   "metadata": {},
   "source": [
    "$\\sum_{n=1}^{\\infty}\\frac{n^n}{(n!)^2}$"
   ]
  },
  {
   "cell_type": "markdown",
   "metadata": {},
   "source": [
    "$$ \\lim_{n\\to \\infty} \\frac{a_{n+1}}{a_n} = q$$"
   ]
  },
  {
   "cell_type": "markdown",
   "metadata": {},
   "source": [
    "$$ a_1 = \\frac{1^1}{1^1} = 1$$"
   ]
  },
  {
   "cell_type": "markdown",
   "metadata": {},
   "source": [
    "$$ a_2 = \\frac{2^2}{(1*2)^2} = \\frac{4}{4} = 1$$"
   ]
  },
  {
   "cell_type": "markdown",
   "metadata": {},
   "source": [
    "$$ a_3 = \\frac{3^3}{(1*2*3)^2} = \\frac{9}{36} = 1/4$$"
   ]
  },
  {
   "cell_type": "markdown",
   "metadata": {},
   "source": [
    "$$ a_4 = \\frac{4^4}{(1*2*3*4)^2} = \\frac{256}{576} = 0,444444444(4)$$"
   ]
  },
  {
   "cell_type": "markdown",
   "metadata": {},
   "source": [
    "$$q =  \\lim_{n\\to \\infty} \\frac{a_4}{a_3} = \\frac{0,444444}{0,25} = 1,7777777$$"
   ]
  },
  {
   "cell_type": "markdown",
   "metadata": {},
   "source": [
    "$q>1$, следовательно ряд расходится"
   ]
  },
  {
   "cell_type": "markdown",
   "metadata": {},
   "source": [
    "#### 2. Исследовать ряд на сходимость, используя радикальный признак Коши:"
   ]
  },
  {
   "cell_type": "markdown",
   "metadata": {},
   "source": [
    "$\\sum_{n=1}^{\\infty}\\frac{n}{2^n}$"
   ]
  },
  {
   "cell_type": "markdown",
   "metadata": {},
   "source": [
    "$$q =  \\lim_{n\\to \\infty} \\sqrt[n]{a_n}$$"
   ]
  },
  {
   "cell_type": "markdown",
   "metadata": {},
   "source": [
    "$$a_1 = \\frac{1}{2^1} = \\frac{1}{2}$$"
   ]
  },
  {
   "cell_type": "markdown",
   "metadata": {},
   "source": [
    "$$a_2 = \\frac{2}{2^2} = \\frac{2}{4} = \\frac{1}{2}$$"
   ]
  },
  {
   "cell_type": "markdown",
   "metadata": {},
   "source": [
    "$$a_3 = \\frac{3}{2^3} = \\frac{3}{8}$$"
   ]
  },
  {
   "cell_type": "markdown",
   "metadata": {},
   "source": [
    "$$a_3 = \\frac{4}{2^4} = \\frac{4}{16} = \\frac{1}{4}$$"
   ]
  },
  {
   "cell_type": "markdown",
   "metadata": {},
   "source": [
    "$$q =  \\lim_{n\\to \\infty} \\sqrt[2]{a_2} = \\lim_{n\\to \\infty} \\sqrt{\\frac{1}{2}} = 0.71 $$"
   ]
  },
  {
   "cell_type": "markdown",
   "metadata": {},
   "source": [
    "$$q =  \\lim_{n\\to \\infty} \\sqrt[4]{a_4} = \\lim_{n\\to \\infty} \\sqrt[4]{\\frac{1}{4}} = 0.71 $$"
   ]
  },
  {
   "cell_type": "markdown",
   "metadata": {},
   "source": [
    "$q<1$, следовательно ряд сходится"
   ]
  },
  {
   "cell_type": "markdown",
   "metadata": {},
   "source": [
    "#### 3. Исследовать ряд на сходимость, используя признак Лейбница:"
   ]
  },
  {
   "cell_type": "markdown",
   "metadata": {},
   "source": [
    "$\\sum_{n=1}^{\\infty}\\frac{(-1)^n}{n+\\ln{n}}$"
   ]
  },
  {
   "cell_type": "markdown",
   "metadata": {},
   "source": [
    "$$ \\lim_{n\\to \\infty} a_n = 0$$"
   ]
  },
  {
   "cell_type": "markdown",
   "metadata": {},
   "source": [
    "$$a_1 = \\frac{(-1)^1}{1+ln1} = \\frac{-1}{1+ln1} = \\frac{-1}{1+0} = -1$$"
   ]
  },
  {
   "cell_type": "markdown",
   "metadata": {},
   "source": [
    "$$a_2 = \\frac{(-1)^2}{2+ln2}  \\approx \\frac{1}{2+0.7} \\approx \\frac{1}{2.7}$$"
   ]
  },
  {
   "cell_type": "markdown",
   "metadata": {},
   "source": [
    "$$a_3 = \\frac{(-1)^3}{3+ln3} \\approx \\frac{-1}{3+1.1} \\approx -\\frac{1}{4.1}$$"
   ]
  },
  {
   "cell_type": "markdown",
   "metadata": {},
   "source": [
    "стремится к 0"
   ]
  },
  {
   "cell_type": "markdown",
   "metadata": {},
   "source": [
    "$$|a_n|\\geq |a_{n+1}|$$"
   ]
  },
  {
   "cell_type": "markdown",
   "metadata": {},
   "source": [
    "$$|a_1|\\geq |a_2| \\Leftrightarrow |-1|\\geq |\\frac{1}{2.7}| $$"
   ]
  },
  {
   "cell_type": "markdown",
   "metadata": {},
   "source": [
    "$$|a_2|\\geq |a_3| \\Leftrightarrow |\\frac{1}{2.7}|\\geq |-\\frac{1}{4.1}|$$"
   ]
  },
  {
   "cell_type": "markdown",
   "metadata": {},
   "source": [
    "условие выполняется"
   ]
  },
  {
   "cell_type": "markdown",
   "metadata": {},
   "source": [
    "#### 4. Исследовать ряд на сходимость, используя признак Раабе: "
   ]
  },
  {
   "cell_type": "markdown",
   "metadata": {},
   "source": [
    "$\\sum_{n=1}^{\\infty}\\frac{3^n}{2^n}$"
   ]
  },
  {
   "cell_type": "markdown",
   "metadata": {},
   "source": [
    "$$D= \\lim_{n\\to \\infty}(n(\\frac{a_n}{a_{n+1}}-1))$$"
   ]
  },
  {
   "cell_type": "markdown",
   "metadata": {},
   "source": [
    "$$a_1 = \\frac{3^1}{2^1} = \\frac{3}{2}$$"
   ]
  },
  {
   "cell_type": "markdown",
   "metadata": {},
   "source": [
    "$$a_2 = \\frac{3^2}{2^2} = \\frac{9}{4}$$"
   ]
  },
  {
   "cell_type": "markdown",
   "metadata": {},
   "source": [
    "$$a_3 = \\frac{3^3}{2^3} = \\frac{27}{8}$$"
   ]
  },
  {
   "cell_type": "markdown",
   "metadata": {},
   "source": [
    "$$D= \\lim_{n\\to \\infty}(n(\\frac{a_n}{a_{n+1}}-1)) = (1*(\\frac{3/2}{9/4}-1)) = (\\frac{3*4}{2*9}-1) = (\\frac{2}{3}-1) = -\\frac{1}{3} $$"
   ]
  },
  {
   "cell_type": "markdown",
   "metadata": {},
   "source": [
    "При D<1 ряд расходится"
   ]
  },
  {
   "cell_type": "markdown",
   "metadata": {},
   "source": [
    "#### 5. Разложить функцию по Тейлору в единице:"
   ]
  },
  {
   "cell_type": "markdown",
   "metadata": {},
   "source": [
    "$f(x) = \\ln{(16x^2)}$"
   ]
  },
  {
   "cell_type": "markdown",
   "metadata": {},
   "source": [
    "$f^{\\prime}(a) = \\frac{1}{16x^2} * 32x = \\frac{32x}{16x^2} = \\frac{2}{x}$"
   ]
  },
  {
   "cell_type": "markdown",
   "metadata": {},
   "source": [
    "$f(a) + f^{\\prime}(a)(x-a) = \\ln{(16*1^2)}*(x-1)^0 + (\\ln{(16*1^2)})^\\prime*(x-1)^1 = \\ln{(16)}+ \\frac{2}{2}*(x-1)^1 = \\ln{(16)}+ x-1$"
   ]
  },
  {
   "cell_type": "markdown",
   "metadata": {},
   "source": [
    "#### 6. * Дана функция $f(x) = x^2$ "
   ]
  },
  {
   "cell_type": "markdown",
   "metadata": {},
   "source": [
    "a. Разложить функцию в ряд Фурье по косинусам на отрезке $x \\in[-2;0]$"
   ]
  },
  {
   "cell_type": "markdown",
   "metadata": {},
   "source": [
    "b. Построить график функции и ее разложения."
   ]
  }
 ],
 "metadata": {
  "kernelspec": {
   "display_name": "Python 3",
   "language": "python",
   "name": "python3"
  },
  "language_info": {
   "codemirror_mode": {
    "name": "ipython",
    "version": 3
   },
   "file_extension": ".py",
   "mimetype": "text/x-python",
   "name": "python",
   "nbconvert_exporter": "python",
   "pygments_lexer": "ipython3",
   "version": "3.8.3"
  }
 },
 "nbformat": 4,
 "nbformat_minor": 4
}
