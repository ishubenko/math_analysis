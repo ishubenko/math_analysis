{
 "cells": [
  {
   "cell_type": "markdown",
   "metadata": {},
   "source": [
    "## Тема “Понятие об интеграле”"
   ]
  },
  {
   "cell_type": "markdown",
   "metadata": {},
   "source": [
    "#### 1. Найти неопределенный интеграл:"
   ]
  },
  {
   "cell_type": "markdown",
   "metadata": {},
   "source": [
    "$ \\displaystyle \\int (2x^2 -2x-1 +\\sin{x}-\\cos{x} +\\ln{x} + e^x)dx = $"
   ]
  },
  {
   "cell_type": "markdown",
   "metadata": {},
   "source": [
    "$= \\frac{2x^3}{3} - x^2 - x - \\cos{x} - sin{x} +x\\ln{x} -x + e^x + C$"
   ]
  },
  {
   "cell_type": "markdown",
   "metadata": {},
   "source": [
    "#### 2. Найти неопределенный интеграл:"
   ]
  },
  {
   "cell_type": "markdown",
   "metadata": {},
   "source": [
    "$ \\displaystyle \\int (2x +6xz^2-5x^2y-3\\ln{z})dx =$"
   ]
  },
  {
   "cell_type": "markdown",
   "metadata": {},
   "source": [
    "$= x^2 + 3z^2x^2 - \\frac{5}{3}yx^3 - 3x\\ln{z} + C$"
   ]
  },
  {
   "cell_type": "markdown",
   "metadata": {},
   "source": [
    "#### 3. Вычислить определенный интеграл:"
   ]
  },
  {
   "cell_type": "markdown",
   "metadata": {},
   "source": [
    "$ \\displaystyle \\int\\limits_0^\\pi 3x^2\\sin{(2x)}dx $"
   ]
  },
  {
   "cell_type": "markdown",
   "metadata": {},
   "source": [
    "$ F(b) - F(a) = F(\\pi) - F(0) $"
   ]
  },
  {
   "cell_type": "markdown",
   "metadata": {},
   "source": [
    "$\\displaystyle \\int UdV = U*V- \\int{VdU}$"
   ]
  },
  {
   "cell_type": "markdown",
   "metadata": {},
   "source": [
    "$U = x^2$"
   ]
  },
  {
   "cell_type": "markdown",
   "metadata": {},
   "source": [
    "$dU = 2x$"
   ]
  },
  {
   "cell_type": "markdown",
   "metadata": {},
   "source": [
    "$dV = \\sin{2x}dx$"
   ]
  },
  {
   "cell_type": "markdown",
   "metadata": {},
   "source": [
    "$V = -\\frac{1}{2}\\cos{2x}$"
   ]
  },
  {
   "cell_type": "markdown",
   "metadata": {},
   "source": [
    "$3(x^2 * (-\\frac{1}{2}\\cos{2x}) - \\int -\\frac{1}{2}\\cos{2x}* (2x) dx + C)$"
   ]
  },
  {
   "cell_type": "markdown",
   "metadata": {},
   "source": [
    "$3((-\\frac{x^2\\cos{2x}}{2}) + \\int x\\cos{(2x)} dx + C)$"
   ]
  },
  {
   "cell_type": "markdown",
   "metadata": {},
   "source": [
    "$Q = x$ "
   ]
  },
  {
   "cell_type": "markdown",
   "metadata": {},
   "source": [
    "$dQ = dx$"
   ]
  },
  {
   "cell_type": "markdown",
   "metadata": {},
   "source": [
    "$dR = cos(2x)dx$"
   ]
  },
  {
   "cell_type": "markdown",
   "metadata": {},
   "source": [
    "$R = \\frac{1}{2}sin(2x)dx$"
   ]
  },
  {
   "cell_type": "markdown",
   "metadata": {},
   "source": [
    "$3((-\\frac{x^2\\cos{2x}}{2}) + (x*\\frac{1}{2}sin(2x)) - \\int \\frac{1}{2}sin(2x)dx + C)$"
   ]
  },
  {
   "cell_type": "markdown",
   "metadata": {},
   "source": [
    "$3((-\\frac{x^2\\cos{2x}}{2}) + \\frac{x\\sin{(2x)}}{2} - \\frac{1}{2} \\int sin(2x)dx + C)$"
   ]
  },
  {
   "cell_type": "markdown",
   "metadata": {},
   "source": [
    "пусть $T = 2x$, тогда $dT = 2dx$, следовательно $\\frac{1}{2}dT = dx$ "
   ]
  },
  {
   "cell_type": "markdown",
   "metadata": {},
   "source": [
    "$3((-\\frac{x^2\\cos{2x}}{2}) + \\frac{x\\sin{(2x)}}{2} - \\frac{1}{2} \\int sin(T)\\frac{1}{2}dT + C)$"
   ]
  },
  {
   "cell_type": "markdown",
   "metadata": {},
   "source": [
    "$3((-\\frac{x^2\\cos{2x}}{2}) + \\frac{x\\sin{(2x)}}{2} - \\frac{1}{4} *(-\\cos(T) + C)$"
   ]
  },
  {
   "cell_type": "markdown",
   "metadata": {},
   "source": [
    "$3((-\\frac{x^2\\cos{2x}}{2} + \\frac{x\\sin{(2x)}}{2} - \\frac{\\cos(2x)}{4} ) + C)$"
   ]
  },
  {
   "cell_type": "markdown",
   "metadata": {},
   "source": [
    "вставляем $\\pi$ и 0"
   ]
  },
  {
   "cell_type": "markdown",
   "metadata": {},
   "source": [
    "$F(\\pi) = 3((-\\frac{x^2*1}{2} + \\frac{x*0}{2} - \\frac{1}{4} ) + C) = $"
   ]
  },
  {
   "cell_type": "markdown",
   "metadata": {},
   "source": [
    "$F(0) = 3((-\\frac{x^2*1}{2} + \\frac{x*0}{2} - \\frac{1}{4} ) + C)$"
   ]
  },
  {
   "cell_type": "markdown",
   "metadata": {},
   "source": [
    "$ F(b)= F(a)$"
   ]
  },
  {
   "cell_type": "markdown",
   "metadata": {},
   "source": [
    "$ \\displaystyle \\int\\limits_0^\\pi 3x^2\\sin{(2x)}dx  = F(b) - F(a) =0$"
   ]
  },
  {
   "cell_type": "markdown",
   "metadata": {},
   "source": [
    "#### 4.  Найти неопределенный интеграл:"
   ]
  },
  {
   "cell_type": "markdown",
   "metadata": {},
   "source": [
    "$ \\displaystyle \\int \\frac{1}{\\sqrt{x+1}}dx$"
   ]
  },
  {
   "cell_type": "markdown",
   "metadata": {},
   "source": [
    "$U = {x+1}$"
   ]
  },
  {
   "cell_type": "markdown",
   "metadata": {},
   "source": [
    "$x = U-1$"
   ]
  },
  {
   "cell_type": "markdown",
   "metadata": {},
   "source": [
    "dx = dU"
   ]
  },
  {
   "cell_type": "markdown",
   "metadata": {},
   "source": [
    "$\\displaystyle \\int \\frac{1}{\\sqrt{U}}dU = \\int U^{-\\frac{1}{2}}dU = \\frac{U^{-\\frac{1}{2}+1}}{-\\frac{1}{2}+1} +C = \\frac{U^{\\frac{1}{2}}}{\\frac{1}{2}} +C= 2\\sqrt{U} +C= 2\\sqrt{x+1} +C$"
   ]
  }
 ],
 "metadata": {
  "kernelspec": {
   "display_name": "Python 3",
   "language": "python",
   "name": "python3"
  },
  "language_info": {
   "codemirror_mode": {
    "name": "ipython",
    "version": 3
   },
   "file_extension": ".py",
   "mimetype": "text/x-python",
   "name": "python",
   "nbconvert_exporter": "python",
   "pygments_lexer": "ipython3",
   "version": "3.8.3"
  }
 },
 "nbformat": 4,
 "nbformat_minor": 4
}
