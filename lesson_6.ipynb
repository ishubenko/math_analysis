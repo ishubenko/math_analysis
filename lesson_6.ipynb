{
 "cells": [
  {
   "cell_type": "markdown",
   "metadata": {},
   "source": [
    "## Тема 6 “Понятие о производной”\n",
    "#### 1c. Найти производную выражения:"
   ]
  },
  {
   "cell_type": "markdown",
   "metadata": {},
   "source": [
    "$$ \\begin{pmatrix} \\sqrt{\\sin^2(\\ln{x^3})} \\end{pmatrix}^\\prime$$"
   ]
  },
  {
   "cell_type": "markdown",
   "metadata": {},
   "source": [
    "y=f(g(h(x))\n",
    "\n",
    "$y^\\prime = f^\\prime(g(h(x))) * g^\\prime(h(x)) * h^\\prime(x)$ "
   ]
  },
  {
   "cell_type": "markdown",
   "metadata": {},
   "source": [
    "$$ f(g(h(x))) = \\sin{\\ln{x^3}}  $$"
   ]
  },
  {
   "cell_type": "markdown",
   "metadata": {},
   "source": [
    "$$ g(h(x)) = (\\ln{x^3}) $$"
   ]
  },
  {
   "cell_type": "markdown",
   "metadata": {},
   "source": [
    "$$ h(x) = x^3 $$"
   ]
  },
  {
   "cell_type": "markdown",
   "metadata": {},
   "source": [
    "$$ \\begin{pmatrix} \\sqrt{\\sin^2(\\ln{x^3})} \\end{pmatrix}^\\prime =(\\sin{\\ln{x^3}})^\\prime = \\cos({\\ln{x^3}}) * \\frac{1}{x^3}* 3x^2 = \\frac{3\\cos({\\ln{x^3}})}{x}$$"
   ]
  },
  {
   "cell_type": "markdown",
   "metadata": {},
   "source": [
    "#### 2.Найти выражение производной функции и ее значение в точке:"
   ]
  },
  {
   "cell_type": "markdown",
   "metadata": {},
   "source": [
    "$$f(x) = \\cos{x^2+3x},  x_0 = \\sqrt{\\pi}$$"
   ]
  },
  {
   "cell_type": "markdown",
   "metadata": {},
   "source": [
    "$$f^\\prime(x) = \\begin{pmatrix}\\cos{x^2+3x}\\end{pmatrix}^\\prime = -\\sin{x^2}*2x + 3 $$"
   ]
  },
  {
   "cell_type": "markdown",
   "metadata": {},
   "source": [
    "$$f^\\prime(x) = 3-\\sqrt\\pi * \\sin(\\sqrt\\pi)^2 = 3 - 0 = 3$$"
   ]
  },
  {
   "cell_type": "markdown",
   "metadata": {},
   "source": [
    "#### *3 Найти значение производной функции в точке:\n"
   ]
  },
  {
   "cell_type": "markdown",
   "metadata": {},
   "source": [
    "$$f(x) = \\frac{x^3-x^2-x-1}{1+2x+3x^2-4x^3},  x_0=0$$"
   ]
  },
  {
   "cell_type": "markdown",
   "metadata": {},
   "source": [
    "$$f^\\prime(x) = \\begin{pmatrix} \\frac{x^3-x^2-x-1}{1+2x+3x^2-4x^3} \\end{pmatrix}^\\prime = \\frac{(x^3-x^2-x-1)^\\prime*(1+2x+3x^2-4x^3)-(x^3-x^2-x-1) * (1+2x+3x^2-4x^3)^\\prime}{(1+2x+3x^2-4x^3)*(1+2x+3x^2-4x^3)}$$"
   ]
  },
  {
   "cell_type": "markdown",
   "metadata": {},
   "source": [
    "$$= \\frac{(3x^2-2x-1)*(1+2x+3x^2-4x^3)-(x^3-x^2-x-1) * (2+6x-12x^2)}{(1+2x+3x^2-4x^3)*(1+2x+3x^2-4x^3)} $$"
   ]
  },
  {
   "cell_type": "markdown",
   "metadata": {},
   "source": [
    "$$x_0 = 0$$"
   ]
  },
  {
   "cell_type": "markdown",
   "metadata": {},
   "source": [
    "$$f^\\prime(x_0) = \\frac{-1*(1)-((-1)*2)}{1*1} = \\frac{(-1)-(-2)}{1} = 2-1 = 1$$"
   ]
  },
  {
   "cell_type": "markdown",
   "metadata": {},
   "source": [
    "#### 4 Найти угол наклона касательной к графику функции в точке:"
   ]
  },
  {
   "cell_type": "markdown",
   "metadata": {},
   "source": [
    "$$f(x) = \\sqrt{3x} * \\ln{x},  x_0=1$$"
   ]
  },
  {
   "cell_type": "markdown",
   "metadata": {},
   "source": [
    "$$y=u*v$$"
   ]
  },
  {
   "cell_type": "markdown",
   "metadata": {},
   "source": [
    "$$y^\\prime=u^\\prime*v + v^\\prime*u$$"
   ]
  },
  {
   "cell_type": "markdown",
   "metadata": {},
   "source": [
    "$$ u= \\sqrt{3x}, v=\\ln{x}$$"
   ]
  },
  {
   "cell_type": "markdown",
   "metadata": {},
   "source": [
    "$$f^\\prime(x) = (\\sqrt{3x})^\\prime*\\ln{x} + (\\ln{x})^\\prime*\\sqrt{3x}$$"
   ]
  },
  {
   "cell_type": "markdown",
   "metadata": {},
   "source": [
    "$$(\\sqrt{3x})^\\prime =\\frac{1}{2\\sqrt{3x}} * 3= \\frac{3}{2\\sqrt{3x}}$$"
   ]
  },
  {
   "cell_type": "markdown",
   "metadata": {},
   "source": [
    "$$f^\\prime(x) = \\frac{3}{2\\sqrt{3x}}*\\ln{x} + (\\ln{x})^\\prime*\\sqrt{3x} = \\frac{3}{2\\sqrt{3x}}*\\ln{x} + \\frac{1}{x}*\\sqrt{3x} = \\frac{3\\ln{x}}{2\\sqrt{3x}} +\\frac{\\sqrt{3x}}{x}$$"
   ]
  },
  {
   "cell_type": "markdown",
   "metadata": {},
   "source": [
    "$$x_0=1$$"
   ]
  },
  {
   "cell_type": "markdown",
   "metadata": {},
   "source": [
    "$$f^\\prime(x_0) = \\frac{3\\ln{1}}{2\\sqrt{3*1}} +\\frac{\\sqrt{3*1}}{1} = \\frac{3\\ln{1}}{2\\sqrt{3}} +\\sqrt{3} = 0+\\sqrt{3} = \\sqrt{3}$$"
   ]
  },
  {
   "cell_type": "markdown",
   "metadata": {},
   "source": [
    "$$\\sqrt{3} = tg(\\alpha)$$"
   ]
  },
  {
   "cell_type": "markdown",
   "metadata": {},
   "source": [
    "$$\\alpha = 60^o$$"
   ]
  },
  {
   "cell_type": "code",
   "execution_count": 23,
   "metadata": {},
   "outputs": [],
   "source": [
    "import matplotlib.pyplot as plt\n",
    "import numpy as np\n",
    "import math\n",
    "import warnings\n",
    "warnings.filterwarnings(\"ignore\")"
   ]
  },
  {
   "cell_type": "code",
   "execution_count": 24,
   "metadata": {},
   "outputs": [
    {
     "data": {
      "image/png": "[encoded data removed]",
      "text/plain": [
       "<Figure size 432x288 with 1 Axes>"
      ]
     },
     "metadata": {
      "needs_background": "light"
     },
     "output_type": "display_data"
    }
   ],
   "source": [
    "x = np.linspace(-20,20,300)\n",
    "# y = x**3 - x**2\n",
    "y=np.sqrt(3*x)* np.log(x)\n",
    "y_p=(3*np.log(x)/2*(np.sqrt(3*x)))+(np.sqrt(3*x)/x)\n",
    "#    - math.log(x))\n",
    "fig = plt.plot(x, y)\n",
    "fig = plt.plot(x, y_p)\n",
    "plt.ylim((-5,20))\n",
    "plt.xlim((-2,20))\n",
    "plt.grid(True)\n",
    "plt.show()"
   ]
  }
 ],
 "metadata": {
  "kernelspec": {
   "display_name": "Python 3",
   "language": "python",
   "name": "python3"
  },
  "language_info": {
   "codemirror_mode": {
    "name": "ipython",
    "version": 3
   },
   "file_extension": ".py",
   "mimetype": "text/x-python",
   "name": "python",
   "nbconvert_exporter": "python",
   "pygments_lexer": "ipython3",
   "version": "3.8.3"
  }
 },
 "nbformat": 4,
 "nbformat_minor": 4
}
