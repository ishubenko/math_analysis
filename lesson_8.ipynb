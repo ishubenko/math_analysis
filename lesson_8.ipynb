{
 "cells": [
  {
   "cell_type": "markdown",
   "metadata": {},
   "source": [
    "## Производные функций нескольких переменных"
   ]
  },
  {
   "cell_type": "markdown",
   "metadata": {},
   "source": [
    "#### 1.       Найти область определения функции."
   ]
  },
  {
   "cell_type": "markdown",
   "metadata": {},
   "source": [
    "$z=\\sqrt{1-x^3}+ \\ln{(y^2-1)}$"
   ]
  },
  {
   "cell_type": "markdown",
   "metadata": {},
   "source": [
    "$1-x^3>=0$"
   ]
  },
  {
   "cell_type": "markdown",
   "metadata": {},
   "source": [
    "$x^3<=1$"
   ]
  },
  {
   "cell_type": "markdown",
   "metadata": {},
   "source": [
    "$x<=1$"
   ]
  },
  {
   "cell_type": "markdown",
   "metadata": {},
   "source": [
    "$x \\in (-\\infty;1]$"
   ]
  },
  {
   "cell_type": "markdown",
   "metadata": {},
   "source": [
    "$y^2-1>0$"
   ]
  },
  {
   "cell_type": "markdown",
   "metadata": {},
   "source": [
    "$y^2>1$"
   ]
  },
  {
   "cell_type": "markdown",
   "metadata": {},
   "source": [
    "$y \\in (-\\infty;-1) и (1;+\\infty)$"
   ]
  },
  {
   "cell_type": "markdown",
   "metadata": {},
   "source": [
    "#### 2.       Найти производные 1-го порядка функции."
   ]
  },
  {
   "cell_type": "markdown",
   "metadata": {},
   "source": [
    "$z=\\begin{pmatrix} 1+\\frac{\\ln{x}}{\\ln{y}} \\end{pmatrix}^3 $"
   ]
  },
  {
   "cell_type": "markdown",
   "metadata": {},
   "source": [
    "$\\frac{dz}{dx}=\\begin{pmatrix} 1+\\frac{1}{\\ln{y}}*\\ln{x} \\end{pmatrix}^3 = 3\\begin{pmatrix} 1+\\frac{1}{\\ln{y}}*\\ln{x} \\end{pmatrix}^2 * \\begin{pmatrix} 1+\\frac{1}{\\ln{y}}*\\ln{x} \\end{pmatrix}^\\prime = 3\\begin{pmatrix} 1+\\frac{1}{\\ln{y}}*\\ln{x} \\end{pmatrix}^2 * \\begin{pmatrix} \\frac{1}{\\ln{y}}*\\frac{1}{x} \\end{pmatrix}$"
   ]
  },
  {
   "cell_type": "markdown",
   "metadata": {},
   "source": [
    "$= (1^2 + 2*1*\\frac{\\ln{x}}{\\ln{y}} + \\frac{\\ln^2{x}}{\\ln^2{y}}) * \\frac{1}{x\\ln{y}} = \\frac{1 + \\frac{2\\ln{x}}{\\ln{y}} + \\frac{\\ln^2{x}}{\\ln^2{y}}}{x\\ln{y}}$"
   ]
  },
  {
   "cell_type": "markdown",
   "metadata": {},
   "source": [
    "$\\frac{dz}{dx} = \\begin{pmatrix} 1+\\ln{x} * \\frac{1}{\\ln{y}} \\end{pmatrix}^3 = 3\\begin{pmatrix} 1+\\ln{x} * \\frac{1}{\\ln{y}} \\end{pmatrix}^2 * \\begin{pmatrix} 1+\\ln{x} * \\frac{1}{\\ln{y}} \\end{pmatrix}^\\prime = 3\\begin{pmatrix} 1+\\ln{x} * \\frac{1}{\\ln{y}} \\end{pmatrix}^2 * \\ln{x} * \\begin{pmatrix} \\frac{1}{\\ln{y}} \\end{pmatrix}^\\prime$"
   ]
  },
  {
   "cell_type": "markdown",
   "metadata": {},
   "source": [
    "$= 3\\begin{pmatrix} 1+\\ln{x} * \\frac{1}{\\ln{y}} \\end{pmatrix}^2 * \\ln{x} * \\begin{pmatrix} -\\frac{1}{\\ln^2{y}} \\end{pmatrix} * \\frac{1}{y} = 3\\begin{pmatrix} 1+\\ln{x} * \\frac{1}{\\ln{y}} \\end{pmatrix}^2 * \\begin{pmatrix} -\\frac{\\ln{x}}{y\\ln^2{y}} \\end{pmatrix} $"
   ]
  },
  {
   "cell_type": "markdown",
   "metadata": {},
   "source": [
    "#### 3.       Найти полный дифференциал функции в точке (1;1)."
   ]
  },
  {
   "cell_type": "markdown",
   "metadata": {},
   "source": [
    "$z = \\sqrt{2xy+\\cos\\frac{x}{y}}$"
   ]
  },
  {
   "cell_type": "markdown",
   "metadata": {},
   "source": [
    "$z = \\frac{dz}{dx} + \\frac{dz}{dy}$"
   ]
  },
  {
   "cell_type": "markdown",
   "metadata": {},
   "source": [
    "$\\frac{dz}{dx} = \\frac{1}{2\\sqrt{(2yx+\\cos\\frac{x}{y})}} * (2y -\\sin\\frac{x}{y})* \\frac{1}{y} = \\frac{(2y -\\sin\\frac{x}{y})}{2y\\sqrt{(2yx+\\cos\\frac{x}{y})}}$"
   ]
  },
  {
   "cell_type": "markdown",
   "metadata": {},
   "source": [
    "$\\frac{dz}{dy} = \\frac{1}{2\\sqrt{(2yx+\\cos\\frac{x}{y})}} * (2x-(\\sin{\\frac{x}{y}})*x(-\\frac{1}{y^2})) = \\frac{2x + \\frac{x\\sin{\\frac{x}{y}}}{y^2}}{2\\sqrt{(2yx+\\cos\\frac{x}{y})}}$"
   ]
  },
  {
   "cell_type": "markdown",
   "metadata": {},
   "source": [
    "#### 4.       Исследовать на экстремум функцию"
   ]
  },
  {
   "cell_type": "markdown",
   "metadata": {},
   "source": [
    "$z=x^2+xy+y^2-6x-9y$"
   ]
  },
  {
   "cell_type": "markdown",
   "metadata": {},
   "source": [
    "$$ \\left\\{ \\begin{array} \\\\ z'_x = 2x + y - 6 = 0 \\\\ z'_y = 2y + x - 9 = 0 \\end{array} \\right. \\iff \\left\\{ \\begin{array} \\\\ x = 9 - 2y \\\\ y = 6 - 2x \\end{array} \\right. \\iff \\left\\{ \\begin{array} \\\\ x = 1 \\\\ y = 4 \\end{array} \\right. $$"
   ]
  },
  {
   "cell_type": "markdown",
   "metadata": {},
   "source": [
    "Проверяем точку $(1; 4)$."
   ]
  },
  {
   "cell_type": "markdown",
   "metadata": {},
   "source": [
    "$ z'_x = 2 $"
   ]
  },
  {
   "cell_type": "markdown",
   "metadata": {},
   "source": [
    "$z'_y = 2$"
   ]
  },
  {
   "cell_type": "markdown",
   "metadata": {},
   "source": [
    "$z'_{xy} = z'_{yx} = 1$"
   ]
  },
  {
   "cell_type": "markdown",
   "metadata": {},
   "source": [
    "$\\\\ \\Delta = \\begin{vmatrix} 2 & 1 \\\\ 1 & 2 \\end{vmatrix} = 2 * 2 - 1 * 1 = 3 > 0. \\\\ $"
   ]
  },
  {
   "cell_type": "markdown",
   "metadata": {},
   "source": [
    "$ z'_{xx} = 2 > 0. $"
   ]
  },
  {
   "cell_type": "markdown",
   "metadata": {},
   "source": [
    "точка $(1; 4)$ минимум"
   ]
  }
 ],
 "metadata": {
  "kernelspec": {
   "display_name": "Python 3",
   "language": "python",
   "name": "python3"
  },
  "language_info": {
   "codemirror_mode": {
    "name": "ipython",
    "version": 3
   },
   "file_extension": ".py",
   "mimetype": "text/x-python",
   "name": "python",
   "nbconvert_exporter": "python",
   "pygments_lexer": "ipython3",
   "version": "3.8.3"
  }
 },
 "nbformat": 4,
 "nbformat_minor": 4
}
