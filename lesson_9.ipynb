{
 "cells": [
  {
   "cell_type": "markdown",
   "metadata": {},
   "source": [
    "## ТЕМА Функция нескольких переменных"
   ]
  },
  {
   "cell_type": "markdown",
   "metadata": {},
   "source": [
    "#### 1. Исследовать функцию на условный экстремум"
   ]
  },
  {
   "cell_type": "markdown",
   "metadata": {},
   "source": [
    "$U = 3-8x+6y, если x^2+y^2=36$"
   ]
  },
  {
   "cell_type": "markdown",
   "metadata": {},
   "source": [
    "метод множителей Лагранджа"
   ]
  },
  {
   "cell_type": "markdown",
   "metadata": {},
   "source": [
    "$L(\\lambda_1, x,y) = 3-8x+6y + \\lambda_1 * (x^2+y^2-36)$"
   ]
  },
  {
   "cell_type": "markdown",
   "metadata": {},
   "source": [
    "$ \\left\\{ \\begin{array} \\\\ L_x'=-8 + \\lambda_1* 2x = 0 \\\\ L_y'=6 + \\lambda_1* 2y = 0 \\\\ L_\\lambda'=x^2+y^2-36 = 0 \\end{array} \\right. \\iff \\left\\{ \\begin{array} \\\\ x = \\frac{8}{\\lambda_1* 2} \\\\ y = \\frac{-6}{\\lambda_1* 2} \\\\ \\frac{64}{4\\lambda_1^2} + \\frac{36}{4\\lambda_1^2}=25 \\end{array} \\right. \\iff \\left\\{ \\begin{array} \\\\ x = \\frac{4}{\\lambda_1} \\\\ y = \\frac{-3}{\\lambda_1} \\\\ \\lambda_1 = \\pm1 \\end{array} \\right. $"
   ]
  },
  {
   "cell_type": "markdown",
   "metadata": {},
   "source": [
    "(1,4,-3) (-1,-4,3)"
   ]
  },
  {
   "cell_type": "markdown",
   "metadata": {},
   "source": [
    "$L_{xx}'' = 2\\lambda_1$"
   ]
  },
  {
   "cell_type": "markdown",
   "metadata": {},
   "source": [
    "$L_{yy}'' = 2\\lambda_1$"
   ]
  },
  {
   "cell_type": "markdown",
   "metadata": {},
   "source": [
    "$L_{\\lambda_1x}'' = 2x$"
   ]
  },
  {
   "cell_type": "markdown",
   "metadata": {},
   "source": [
    "$L_{\\lambda_1y}'' = 2y$"
   ]
  },
  {
   "cell_type": "markdown",
   "metadata": {},
   "source": [
    "$L_{\\lambda_1\\lambda_1}'' = 0$"
   ]
  },
  {
   "cell_type": "markdown",
   "metadata": {},
   "source": [
    "$L_{x\\lambda_1}'' = 2x$"
   ]
  },
  {
   "cell_type": "markdown",
   "metadata": {},
   "source": [
    "$L_{y\\lambda_1}'' = 2y$"
   ]
  },
  {
   "cell_type": "markdown",
   "metadata": {},
   "source": [
    "$L_{xy}'' = 0$"
   ]
  },
  {
   "cell_type": "markdown",
   "metadata": {},
   "source": [
    "$L_{yx}'' = 0$"
   ]
  },
  {
   "cell_type": "markdown",
   "metadata": {},
   "source": [
    "$\\begin{pmatrix} L_{\\lambda_1\\lambda_1}'' \\ L_{\\lambda_1x}'' \\ L_{\\lambda_1y}'' \\\\ L_{x\\lambda_1}'' L_{xx}'' \\ L_{xy}'' \\\\ L_{y\\lambda_1}'' \\ L_{yx}'' \\ L_{yy}'' \\end{pmatrix} = \\begin{pmatrix} 0 \\ 2x \\ 2y \\\\ 2x 2\\lambda_1 \\ 0 \\\\ 2y \\ 0 \\ 2\\lambda_1 \\end{pmatrix}$"
   ]
  },
  {
   "cell_type": "markdown",
   "metadata": {},
   "source": [
    "определитель"
   ]
  },
  {
   "cell_type": "markdown",
   "metadata": {},
   "source": [
    "$\\begin{vmatrix} 0 \\ 2x \\ 2y \\\\ 2x 2\\lambda_1 \\ 0 \\\\ 2y \\ 0 \\ 2\\lambda_1 \\end{vmatrix} =  0* \\begin{vmatrix} 2\\lambda_1 \\ 0 \\\\ 0 \\ 2\\lambda_1 \\end{vmatrix} - 2x*\\begin{vmatrix}2x \\ 0 \\\\ 2y \\ 2\\lambda_1 \\end{vmatrix} + 2y * \\begin{vmatrix} 2x \\ 2\\lambda_1 \\\\ 2y \\ 0 \\end{vmatrix} = 0-2x*(2x * 2\\lambda_1 - 0) + 2y*(0-2y*2\\lambda_1) = -8x^2\\lambda_1 - 8y^2\\lambda_1 = -8\\lambda_1(x^2+y^2)$"
   ]
  },
  {
   "cell_type": "markdown",
   "metadata": {},
   "source": [
    "(1,4,-3) - точка минимума"
   ]
  },
  {
   "cell_type": "markdown",
   "metadata": {},
   "source": [
    "(-1,-4,3) - точка максимума"
   ]
  },
  {
   "cell_type": "markdown",
   "metadata": {},
   "source": [
    "#### 2. Исследовать функцию на условный экстремум"
   ]
  },
  {
   "cell_type": "markdown",
   "metadata": {},
   "source": [
    "$U= 2x^2 +12xy+32y^2+15, \\  если \\ x^2+16y^2=64$"
   ]
  },
  {
   "cell_type": "markdown",
   "metadata": {},
   "source": [
    "$L(\\lambda_1, x,y) = 2x^2 +12xy+32y^2+15 + \\lambda_1 * (x^2+16y^2-64)$"
   ]
  },
  {
   "cell_type": "markdown",
   "metadata": {},
   "source": [
    "$ \\left\\{ \\begin{array} \\\\ L_x'= 4x +12y + \\lambda_1*2x = 0 \\\\ L_y'= 12x +64y +\\lambda_1 * 32y= 0 \\\\ L_\\lambda'= x^2+16y^2-64 = 0 \\end{array} \\right. \\iff \\left\\{ \\begin{array} \\\\ x = \\\\ y = \\\\ =64 \\end{array} \\right. \\iff \\left\\{ \\begin{array} \\\\ x =  \\\\ y =  \\\\ \\lambda_1 =  \\end{array} \\right. $"
   ]
  },
  {
   "cell_type": "markdown",
   "metadata": {},
   "source": [
    "#### 3. Найти производную функции $U=x^2 +y^2 + z^2$ по направлению вектора $\\overline{c}=(-9,8,-12)$ в точку $M(8,-12,9)$"
   ]
  },
  {
   "cell_type": "code",
   "execution_count": null,
   "metadata": {},
   "outputs": [],
   "source": [
    "# $grad{U} = (U_x',U_y', U_z')$"
   ]
  },
  {
   "cell_type": "markdown",
   "metadata": {},
   "source": [
    "$U_x' = 2x$"
   ]
  },
  {
   "cell_type": "markdown",
   "metadata": {},
   "source": [
    "$U_y'=2y$"
   ]
  },
  {
   "cell_type": "markdown",
   "metadata": {},
   "source": [
    "$U_z'= 2z$"
   ]
  },
  {
   "cell_type": "code",
   "execution_count": null,
   "metadata": {},
   "outputs": [],
   "source": [
    "# $grad{U} = (2x,2y,2z)$"
   ]
  },
  {
   "cell_type": "markdown",
   "metadata": {},
   "source": [
    "$U'\\bigg| _{(8,-12,9)} = (16,-24,18)$"
   ]
  },
  {
   "cell_type": "markdown",
   "metadata": {},
   "source": [
    "нормируем"
   ]
  },
  {
   "cell_type": "markdown",
   "metadata": {},
   "source": [
    "$\\overline{c}=\\sqrt{(-9)^2 + 8^2 + (-12)^2} = 17$"
   ]
  },
  {
   "cell_type": "markdown",
   "metadata": {},
   "source": [
    "$\\overline{c_0} = (\\frac{-9}{17}, \\frac{8}{17}, \\frac{-12}{17})$"
   ]
  },
  {
   "cell_type": "markdown",
   "metadata": {},
   "source": [
    "$U'\\bigg| _{M_0} = 16*\\frac{-9}{17} + -24*\\frac{8}{17}  + 18*\\frac{-12}{17} = \\frac{-144}{17} - \\frac{192}{17} -\\frac{216}{17} = -\\frac{552}{17} = -32.4706$"
   ]
  },
  {
   "cell_type": "markdown",
   "metadata": {},
   "source": [
    "#### 3. Найти производную функции $U=e^{x^2 +y^2 + z^2}$ по направлению вектора $\\overline{d}=(4,-13,-16)$ в точку $L(-16,4,-13)$"
   ]
  },
  {
   "cell_type": "markdown",
   "metadata": {},
   "source": []
  }
 ],
 "metadata": {
  "kernelspec": {
   "display_name": "Python 3",
   "language": "python",
   "name": "python3"
  },
  "language_info": {
   "codemirror_mode": {
    "name": "ipython",
    "version": 3
   },
   "file_extension": ".py",
   "mimetype": "text/x-python",
   "name": "python",
   "nbconvert_exporter": "python",
   "pygments_lexer": "ipython3",
   "version": "3.8.3"
  }
 },
 "nbformat": 4,
 "nbformat_minor": 4
}
