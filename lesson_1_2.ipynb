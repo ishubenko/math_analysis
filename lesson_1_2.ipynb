{
 "cells": [
  {
   "cell_type": "markdown",
   "metadata": {},
   "source": [
    "# Тема “Введение в математических анализ”"
   ]
  },
  {
   "cell_type": "markdown",
   "metadata": {},
   "source": [
    "#### 1. \n",
    "Как относятся друг к другу множество и последовательность? (в ответе использовать слова типа: часть, целое, общее, частное, родитель, дочерний субъект и т.д.)"
   ]
  },
  {
   "cell_type": "markdown",
   "metadata": {},
   "source": [
    "Последовательность состоит из множества действительных чисел, имеющих порядок с использованием натуральных чисел."
   ]
  },
  {
   "cell_type": "markdown",
   "metadata": {},
   "source": [
    "#### 2.\n",
    "Прочитать высказывания математической логики, построить их отрицания и установить истинность."
   ]
  },
  {
   "cell_type": "markdown",
   "metadata": {},
   "source": [
    "#### ВЫРАЖЕНИЕ 1\n",
    "$$\\forall y \\in [0;1] : sgn(y) = 1$$\n",
    "Для любого y принадлежавшего диапазону от 0 включительно до 1 включительно, знак y будет положительным\n",
    "\n",
    "#### истинность\n",
    "Не верное высказывание, так как в изначальном диапазоне может быть значение 0 и тогда sgn(y) не будет равно 1\n",
    "\n",
    "#### отрицание\n",
    "$$\\exists y \\in [0;1] : sgn(y) \\neq 1$$\n",
    "Существует y принадлежащий диапазону от 0 включительно до 1 включительно, знак у которого НЕ будет положительным (Да)"
   ]
  },
  {
   "cell_type": "markdown",
   "metadata": {},
   "source": [
    "#### ВЫРАЖЕНИЕ 2\n",
    "$$\\forall n \\in N > 2 : \\exists x,y,z \\in N : x^n=y^n+z^n $$\n",
    "Для любого n принадлежащего множеству натуральных чисел больших, чем 2, существуют такие натуральные значения x,y и z, при которых выполняется равенство  $x^n=y^n+z^n$\n",
    "\n",
    "#### истинность\n",
    "Высказывание ложно. Какую бы не взяли степень больше 2 не найдутся натуральные числа, которые будут удовлетворять равенству $x^n=y^n+z^n$\n",
    "\n",
    "#### отрицание\n",
    "$$\\exists n \\in N > 2 : \\forall x,y,z \\in N : x^n \\neq y^n+z^n $$\n",
    "ПРИ ОТРИЦАНИИ НУЖНО МЕНЯТЬ ВСЕ КВАНТОРЫ? Или только один, а потом логическое сказуемое ?\n",
    "сказуемым в данном случае выступает равенство"
   ]
  },
  {
   "cell_type": "markdown",
   "metadata": {},
   "source": [
    "#### ВЫРАЖЕНИЕ 3\n",
    "$$ \\forall x \\in R \\exists X \\in R : X > x $$\n",
    "Для каждого вещественного x , существует множество X вещественных чисел, при котором Множество X > x\n",
    "\n",
    "#### истинность\n",
    "истинно\n",
    "\n",
    "#### отрицание\n",
    "$$ \\exists x \\in R \\forall X \\in R : X \\leq x $$"
   ]
  },
  {
   "cell_type": "markdown",
   "metadata": {},
   "source": [
    "#### ВЫРАЖЕНИЕ 4\n",
    "$$\\forall x \\in C \\nexists y \\in C : x > y || x < y $$\n",
    "Для любого x из множества комплексных чисел, НЕ существует y также из множества комплексных чисел, при котором выполняются неравенства: x > y или x < y \n",
    "\n",
    "#### отрицание\n",
    "$$\\exists x \\in C \\exists y \\in C : x > y || x < y $$\n",
    "\n",
    "#### истинность\n",
    "Высказывание не верно, для любого x можно подобрать y, удовлетворяющему одному из требований: x > y или x < y"
   ]
  },
  {
   "cell_type": "markdown",
   "metadata": {},
   "source": [
    "#### ВЫРАЖЕНИЕ 5\n",
    "$$\\forall y \\in [0;\\frac{\\pi}{2}] \\exists \\epsilon > 0: \\sin y < \\sin(y+\\epsilon)$$\n",
    "Для любого y в диапазоне от 0 до 90 существует эпсилон больше 0, при котором sin y < sin (y + $\\epsilon$)\n",
    "\n",
    "#### отрицание\n",
    "$$\\exists y \\in [0;\\frac{\\pi}{2}] \\forall \\epsilon > 0: \\sin y \\geq \\sin(y+\\epsilon)$$\n",
    "\n",
    "#### истинность\n",
    "выражение ложно. sin 90 = 1 это максимальное значение, а следовательно $sin(y+\\epsilon)$ может быть меньше"
   ]
  },
  {
   "cell_type": "markdown",
   "metadata": {},
   "source": [
    "#### ВЫРАЖЕНИЕ 6\n",
    "$$\\forall y \\in [0;\\pi) \\exists \\epsilon > 0: \\cos y > \\cos(y+\\epsilon)$$\n",
    "Для каждого y в диапазоне от 0 включительно до $\\pi$, существует $\\epsilon$ больше нуля, при котором косинус y будет больше, чем косинус суммы y и $\\epsilon$\n",
    "\n",
    "#### истинность\n",
    "высказывание истинно\n",
    "\n",
    "#### отрицание\n",
    "$$\\exists y \\in [0;\\pi) \\exists \\epsilon > 0: \\cos y \\leq \\cos(y+\\epsilon)$$\n"
   ]
  },
  {
   "cell_type": "markdown",
   "metadata": {},
   "source": [
    "#### ВЫРАЖЕНИЕ 7\n",
    "$$\\exists x : x \\notin \\begin{Bmatrix} {N,Z,Q,R,C} \\end{Bmatrix}$$\n",
    "Существует x, при котором x не принадлежит значениям множеств натуральных, целых, рациональных, вещественных, комплексных\n",
    "\n",
    "#### истинность\n",
    "(Насколько я понимаю/знаю) Данное выражение ЛОЖЬ, так как нет иных множеств чисел, к которым бы могла принадлежать x\n",
    "\n",
    "#### отрицание\n",
    "$$\\forall x : x \\in \\begin{Bmatrix} {N,Z,Q,R,C} \\end{Bmatrix}$$\n",
    "Какой бы ни был x, x будет принадлежать значениям одного из множеств: натуральных, целых, рациональных, вещественных, комплексных (Да)"
   ]
  },
  {
   "cell_type": "markdown",
   "metadata": {},
   "source": [
    "# Тема “Множество”"
   ]
  },
  {
   "cell_type": "markdown",
   "metadata": {},
   "source": [
    "#### 1.\n",
    "Даны три множества a,b и с. Необходимо выполнить все изученные виды бинарных операций над всеми комбинациями множеств."
   ]
  },
  {
   "cell_type": "markdown",
   "metadata": {},
   "source": []
  },
  {
   "cell_type": "markdown",
   "metadata": {},
   "source": [
    "#### 2.\n",
    "*Выполнить задание 1 на языке Python"
   ]
  },
  {
   "cell_type": "code",
   "execution_count": 18,
   "metadata": {},
   "outputs": [],
   "source": [
    "#Зададим множества А и В. Не обязательно числовые\n",
    "A = {1, 11, 111, 1111, 22, \"один\", \"одиннадцать\"}\n",
    "B = {111, 2, 22, 222, 2222, \"два\", \"двадцать два\"}\n",
    "C = {11, 22, 3, 33, 333, \"три\", \"тридцать три\"}"
   ]
  },
  {
   "cell_type": "code",
   "execution_count": 19,
   "metadata": {},
   "outputs": [
    {
     "name": "stdout",
     "output_type": "stream",
     "text": [
      "{1, 'одиннадцать', 2, 11, 2222, 111, 222, 22, 1111, 'два', 'двадцать два', 'один'}\n"
     ]
    }
   ],
   "source": [
    "# Объединение множеств можно проделать с помощью оператора \"|\" или функция union()\n",
    "print(A | B)"
   ]
  },
  {
   "cell_type": "code",
   "execution_count": 20,
   "metadata": {
    "scrolled": true
   },
   "outputs": [
    {
     "name": "stdout",
     "output_type": "stream",
     "text": [
      "{1, 2, 'одиннадцать', 11, 2222, 111, 22, 1111, 'два', 'двадцать два', 222, 'один'}\n"
     ]
    }
   ],
   "source": [
    "print(B.union(A))"
   ]
  },
  {
   "cell_type": "code",
   "execution_count": 21,
   "metadata": {},
   "outputs": [
    {
     "name": "stdout",
     "output_type": "stream",
     "text": [
      "{1, 'одиннадцать', 33, 3, 'три', 11, 333, 111, 'тридцать три', 22, 1111, 'один'}\n"
     ]
    }
   ],
   "source": [
    "print(A | C)"
   ]
  },
  {
   "cell_type": "code",
   "execution_count": 22,
   "metadata": {
    "scrolled": true
   },
   "outputs": [
    {
     "name": "stdout",
     "output_type": "stream",
     "text": [
      "{1, 2, 3, 11, 333, 22, 1111, 'два', 222, 'один', 'одиннадцать', 33, 'три', 2222, 111, 'тридцать три', 'двадцать два'}\n"
     ]
    }
   ],
   "source": [
    "print(A | B | C)"
   ]
  },
  {
   "cell_type": "code",
   "execution_count": 23,
   "metadata": {
    "scrolled": true
   },
   "outputs": [
    {
     "name": "stdout",
     "output_type": "stream",
     "text": [
      "{22, 111}\n",
      "{22}\n",
      "{11, 22}\n",
      "{22}\n"
     ]
    }
   ],
   "source": [
    "print(A & B)\n",
    "print(B & C)\n",
    "print(A & C)\n",
    "print(A & B & C)"
   ]
  },
  {
   "cell_type": "code",
   "execution_count": 24,
   "metadata": {},
   "outputs": [
    {
     "name": "stdout",
     "output_type": "stream",
     "text": [
      "{1, 'одиннадцать', 11, 1111, 'один'}\n"
     ]
    }
   ],
   "source": [
    "# Разность с помощью оператора \"-\" или функция difference()\n",
    "print(A - B)"
   ]
  },
  {
   "cell_type": "code",
   "execution_count": 25,
   "metadata": {},
   "outputs": [
    {
     "name": "stdout",
     "output_type": "stream",
     "text": [
      "{1, 2, 11, 1111, 'два', 222, 'один', 'одиннадцать', 2222, 'двадцать два'}\n"
     ]
    }
   ],
   "source": [
    "#Симметричную разность с помощью оператора \"^\" или функция symmetric_difference()\n",
    "print(A ^ B)"
   ]
  },
  {
   "cell_type": "markdown",
   "metadata": {},
   "source": [
    "## Тема 3 “Последовательность”"
   ]
  },
  {
   "cell_type": "markdown",
   "metadata": {},
   "source": [
    "#### 1.\n",
    "Даны 4 последовательности. Необходимо:\n",
    "a) исследовать их на монотонность; \n",
    "b) исследовать на ограниченность;\n",
    "c) найти пятый по счету член."
   ]
  },
  {
   "cell_type": "markdown",
   "metadata": {},
   "source": [
    "$$\\begin{Bmatrix}\n",
    "a_n\n",
    "\\end{Bmatrix}_{n=1}^{\\infty} = 2^n - n$$\n",
    "$$a_1 = 2^1 - 1 = 1$$\n",
    "$$a_2 = 2^2 - 2 = 2$$\n",
    "$$a_3 = 2^3 - 3 = 5$$\n",
    "$$a_4 = 2^4 - 4 = 12$$\n",
    "$$a_5 = 2^5 - 5 = 27$$"
   ]
  },
  {
   "cell_type": "markdown",
   "metadata": {},
   "source": []
  },
  {
   "cell_type": "markdown",
   "metadata": {},
   "source": [
    "#### 2.\n",
    "Найти 12-й член заданной неявно последовательности\n",
    "$$ a_1 = 128, a_{n+1} - a_n = 6 $$\n",
    "$$ a_{n+1} = a_n + 6 $$\n",
    "$$ a_{n} = a_{n-1} + 6 $$\n",
    "\n",
    "$$ a_1 = 128 $$\n",
    "$$ a_2 = 134 $$\n",
    "$$ a_3 = 140 $$\n",
    "$$ a_4 = 146 $$\n",
    "$$ a_n = a_1 + 6*(n-1) $$\n",
    "$$ a_{12} = 128 + 6*(12-1) = 128 + 66 = 194 $$"
   ]
  },
  {
   "cell_type": "markdown",
   "metadata": {},
   "source": [
    "$\\frac{a}{b}$\n",
    "$\\overline{0}$\n",
    "$\\sqrt{\\frac{2 D c_o}{}c_h}$\n",
    "\n",
    "$\\sum_{i=1}^n x_i$"
   ]
  },
  {
   "cell_type": "markdown",
   "metadata": {},
   "source": [
    "### 3.\n",
    "На языке Python предложить алгоритм вычисляющий численно предел с точностью \n",
    "$$\\epsilon = 10^{-7}$$"
   ]
  }
 ],
 "metadata": {
  "kernelspec": {
   "display_name": "Python 3",
   "language": "python",
   "name": "python3"
  },
  "language_info": {
   "codemirror_mode": {
    "name": "ipython",
    "version": 3
   },
   "file_extension": ".py",
   "mimetype": "text/x-python",
   "name": "python",
   "nbconvert_exporter": "python",
   "pygments_lexer": "ipython3",
   "version": "3.8.5"
  }
 },
 "nbformat": 4,
 "nbformat_minor": 4
}
