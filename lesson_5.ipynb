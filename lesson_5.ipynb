{
 "cells": [
  {
   "cell_type": "markdown",
   "metadata": {},
   "source": [
    "## Тема “Предел функции”"
   ]
  },
  {
   "cell_type": "markdown",
   "metadata": {},
   "source": [
    "d,e,f"
   ]
  },
  {
   "cell_type": "markdown",
   "metadata": {},
   "source": [
    "$$\\lim_{x\\to \\infty} \\begin{pmatrix}\\frac{4x+3}{4x-3}\\end{pmatrix}^{6x} = \\begin{pmatrix}\\frac{4x-3}{4x-3} + \\frac{6}{4x-3}\\end{pmatrix}^{6x} = (1+\\frac{6}{4x-3})^{6x} = (1+\\frac{6}{4x-3})^{\\frac{4x-3}{6}* \\frac{6}{4x-3}*6x} = e^{lim \\frac{36x}{4x-3}} = e^9$$"
   ]
  },
  {
   "cell_type": "markdown",
   "metadata": {},
   "source": [
    "$$\\lim_{x\\to \\infty} \\frac{sin(x) + ln(x)}{x}  = \\frac{sin(x)}{x} + \\frac{ln(x)}{x} = 0+0 = 0$$"
   ]
  },
  {
   "cell_type": "markdown",
   "metadata": {},
   "source": [
    "$$\\lim_{x\\to 0} \\frac{sin(x) + ln(x)}{x}  = \\frac{sin(x)}{x} + \\frac{ln(x)}{x} = 1+ \\infty$$"
   ]
  },
  {
   "cell_type": "markdown",
   "metadata": {},
   "source": [
    "## Тема 6 “Понятие о производной”"
   ]
  },
  {
   "cell_type": "markdown",
   "metadata": {},
   "source": [
    "# a"
   ]
  },
  {
   "cell_type": "markdown",
   "metadata": {},
   "source": [
    "$$ (\\sin{x}*\\cos{x})^\\prime= (\\sin{x})^\\prime * \\cos{x} + (\\cos{x})^\\prime * \\sin{x} = \\cos^2x - \\sin^2x $$"
   ]
  },
  {
   "cell_type": "markdown",
   "metadata": {},
   "source": [
    "# b"
   ]
  },
  {
   "cell_type": "markdown",
   "metadata": {},
   "source": [
    "$$\\begin{pmatrix}ln(2x+1)^3\\end{pmatrix}^\\prime $$"
   ]
  },
  {
   "cell_type": "markdown",
   "metadata": {},
   "source": [
    "y=f(g(h(x))\n",
    "\n",
    "$y^\\prime = f^\\prime(g(h(x))) * g^\\prime(h(x)) * h^\\prime(x)$\n",
    "\n",
    "h(x) = (2x+1) "
   ]
  },
  {
   "cell_type": "markdown",
   "metadata": {},
   "source": [
    "$g(h(x)) = (h(x))^3 = (2x+1)^3$"
   ]
  },
  {
   "cell_type": "markdown",
   "metadata": {},
   "source": [
    "f(x) = ln(g(h(x))"
   ]
  },
  {
   "cell_type": "markdown",
   "metadata": {},
   "source": [
    "$$ y^\\prime = \\frac{1}{(2x+1)^3} * 3(2x+1)^2 * 2 = \\frac{2*3*(2x+1)^2}{(2x+1)(2x+1)^2} = \\frac{6}{2x+1}$$"
   ]
  },
  {
   "cell_type": "markdown",
   "metadata": {},
   "source": [
    "# d"
   ]
  },
  {
   "cell_type": "markdown",
   "metadata": {},
   "source": [
    "$$\\begin{pmatrix}\\frac{x^4}{ln(x)}\\end{pmatrix}^\\prime = \\frac{(x^4)^\\prime * ln(x) - (ln(x))^\\prime * x^4}{(ln(x))^2} = \\frac{4x^3 * ln(x) - x^{-1} * x^4}{(ln(x))^2} = \\frac{4x^3ln(x) - x^{3}}{(ln(x))^2} = \\frac{x^3(4ln(x) - 1)}{(ln(x))^2}$$"
   ]
  }
 ],
 "metadata": {
  "kernelspec": {
   "display_name": "Python 3",
   "language": "python",
   "name": "python3"
  },
  "language_info": {
   "codemirror_mode": {
    "name": "ipython",
    "version": 3
   },
   "file_extension": ".py",
   "mimetype": "text/x-python",
   "name": "python",
   "nbconvert_exporter": "python",
   "pygments_lexer": "ipython3",
   "version": "3.8.3"
  }
 },
 "nbformat": 4,
 "nbformat_minor": 4
}
